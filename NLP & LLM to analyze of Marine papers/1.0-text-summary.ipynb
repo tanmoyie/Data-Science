{
 "cells": [
  {
   "cell_type": "code",
   "outputs": [],
   "source": [],
   "metadata": {
    "collapsed": false
   },
   "id": "7b34f54c1b3d3619"
  },
  {
   "cell_type": "markdown",
   "source": [
    "# Large Language Modeling (LLM)"
   ],
   "metadata": {
    "collapsed": false
   },
   "id": "8b266566c857b544"
  },
  {
   "cell_type": "code",
   "outputs": [],
   "source": [],
   "metadata": {
    "collapsed": false
   },
   "id": "f220a2c0ce961bfa"
  },
  {
   "cell_type": "markdown",
   "source": [
    "# Natural Language Processing (NLP)"
   ],
   "metadata": {
    "collapsed": false
   },
   "id": "7b87aab6312c09a8"
  },
  {
   "cell_type": "code",
   "outputs": [
    {
     "name": "stdout",
     "output_type": "stream",
     "text": [
      "Collecting bert-extractive-summarizer\r\n",
      "  Downloading bert_extractive_summarizer-0.10.1-py3-none-any.whl.metadata (15 kB)\r\n",
      "Collecting transformers (from bert-extractive-summarizer)\r\n",
      "  Downloading transformers-4.44.2-py3-none-any.whl.metadata (43 kB)\r\n",
      "\u001B[2K     \u001B[90m━━━━━━━━━━━━━━━━━━━━━━━━━━━━━━━━━━━━━━━━\u001B[0m \u001B[32m43.7/43.7 kB\u001B[0m \u001B[31m1.4 MB/s\u001B[0m eta \u001B[36m0:00:00\u001B[0ma \u001B[36m0:00:01\u001B[0m\r\n",
      "\u001B[?25hRequirement already satisfied: scikit-learn in /Users/tanmoydas/Applications/anaconda3/envs/Freelancing/lib/python3.11/site-packages (from bert-extractive-summarizer) (1.4.1.post1)\r\n",
      "Collecting spacy (from bert-extractive-summarizer)\r\n",
      "  Downloading spacy-3.7.6.tar.gz (1.3 MB)\r\n",
      "\u001B[2K     \u001B[90m━━━━━━━━━━━━━━━━━━━━━━━━━━━━━━━━━━━━━━━━\u001B[0m \u001B[32m1.3/1.3 MB\u001B[0m \u001B[31m878.1 kB/s\u001B[0m eta \u001B[36m0:00:00\u001B[0m00:01\u001B[0m00:01\u001B[0m\r\n",
      "\u001B[?25h  Installing build dependencies ... \u001B[?25ldone\r\n",
      "\u001B[?25h  Getting requirements to build wheel ... \u001B[?25ldone\r\n",
      "\u001B[?25h  Preparing metadata (pyproject.toml) ... \u001B[?25ldone\r\n",
      "\u001B[?25hRequirement already satisfied: numpy<2.0,>=1.19.5 in /Users/tanmoydas/Applications/anaconda3/envs/Freelancing/lib/python3.11/site-packages (from scikit-learn->bert-extractive-summarizer) (1.23.5)\r\n",
      "Requirement already satisfied: scipy>=1.6.0 in /Users/tanmoydas/Applications/anaconda3/envs/Freelancing/lib/python3.11/site-packages (from scikit-learn->bert-extractive-summarizer) (1.11.4)\r\n",
      "Requirement already satisfied: joblib>=1.2.0 in /Users/tanmoydas/Applications/anaconda3/envs/Freelancing/lib/python3.11/site-packages (from scikit-learn->bert-extractive-summarizer) (1.3.2)\r\n",
      "Requirement already satisfied: threadpoolctl>=2.0.0 in /Users/tanmoydas/Applications/anaconda3/envs/Freelancing/lib/python3.11/site-packages (from scikit-learn->bert-extractive-summarizer) (3.3.0)\r\n",
      "Collecting spacy-legacy<3.1.0,>=3.0.11 (from spacy->bert-extractive-summarizer)\r\n",
      "  Downloading spacy_legacy-3.0.12-py2.py3-none-any.whl.metadata (2.8 kB)\r\n",
      "Collecting spacy-loggers<2.0.0,>=1.0.0 (from spacy->bert-extractive-summarizer)\r\n",
      "  Downloading spacy_loggers-1.0.5-py3-none-any.whl.metadata (23 kB)\r\n",
      "Collecting murmurhash<1.1.0,>=0.28.0 (from spacy->bert-extractive-summarizer)\r\n",
      "  Using cached murmurhash-1.0.10-cp311-cp311-macosx_11_0_arm64.whl.metadata (2.0 kB)\r\n",
      "Collecting cymem<2.1.0,>=2.0.2 (from spacy->bert-extractive-summarizer)\r\n",
      "  Using cached cymem-2.0.8-cp311-cp311-macosx_11_0_arm64.whl.metadata (8.4 kB)\r\n",
      "Collecting preshed<3.1.0,>=3.0.2 (from spacy->bert-extractive-summarizer)\r\n",
      "  Using cached preshed-3.0.9-cp311-cp311-macosx_11_0_arm64.whl.metadata (2.2 kB)\r\n",
      "Collecting thinc<8.3.0,>=8.2.2 (from spacy->bert-extractive-summarizer)\r\n",
      "  Using cached thinc-8.2.5-cp311-cp311-macosx_11_0_arm64.whl.metadata (15 kB)\r\n",
      "Collecting wasabi<1.2.0,>=0.9.1 (from spacy->bert-extractive-summarizer)\r\n",
      "  Using cached wasabi-1.1.3-py3-none-any.whl.metadata (28 kB)\r\n",
      "Collecting srsly<3.0.0,>=2.4.3 (from spacy->bert-extractive-summarizer)\r\n",
      "  Using cached srsly-2.4.8-cp311-cp311-macosx_11_0_arm64.whl.metadata (20 kB)\r\n",
      "Collecting catalogue<2.1.0,>=2.0.6 (from spacy->bert-extractive-summarizer)\r\n",
      "  Using cached catalogue-2.0.10-py3-none-any.whl.metadata (14 kB)\r\n",
      "Collecting weasel<0.5.0,>=0.1.0 (from spacy->bert-extractive-summarizer)\r\n",
      "  Downloading weasel-0.4.1-py3-none-any.whl.metadata (4.6 kB)\r\n",
      "Collecting typer<1.0.0,>=0.3.0 (from spacy->bert-extractive-summarizer)\r\n",
      "  Downloading typer-0.12.5-py3-none-any.whl.metadata (15 kB)\r\n",
      "Requirement already satisfied: tqdm<5.0.0,>=4.38.0 in /Users/tanmoydas/Applications/anaconda3/envs/Freelancing/lib/python3.11/site-packages (from spacy->bert-extractive-summarizer) (4.66.2)\r\n",
      "Requirement already satisfied: requests<3.0.0,>=2.13.0 in /Users/tanmoydas/Applications/anaconda3/envs/Freelancing/lib/python3.11/site-packages (from spacy->bert-extractive-summarizer) (2.31.0)\r\n",
      "Collecting pydantic!=1.8,!=1.8.1,<3.0.0,>=1.7.4 (from spacy->bert-extractive-summarizer)\r\n",
      "  Using cached pydantic-2.9.1-py3-none-any.whl.metadata (146 kB)\r\n",
      "Requirement already satisfied: jinja2 in /Users/tanmoydas/Applications/anaconda3/envs/Freelancing/lib/python3.11/site-packages (from spacy->bert-extractive-summarizer) (3.1.3)\r\n",
      "Requirement already satisfied: setuptools in /Users/tanmoydas/Applications/anaconda3/envs/Freelancing/lib/python3.11/site-packages (from spacy->bert-extractive-summarizer) (68.2.2)\r\n",
      "Requirement already satisfied: packaging>=20.0 in /Users/tanmoydas/Applications/anaconda3/envs/Freelancing/lib/python3.11/site-packages (from spacy->bert-extractive-summarizer) (23.1)\r\n",
      "Collecting langcodes<4.0.0,>=3.2.0 (from spacy->bert-extractive-summarizer)\r\n",
      "  Downloading langcodes-3.4.0-py3-none-any.whl.metadata (29 kB)\r\n",
      "Requirement already satisfied: filelock in /Users/tanmoydas/Applications/anaconda3/envs/Freelancing/lib/python3.11/site-packages (from transformers->bert-extractive-summarizer) (3.15.4)\r\n",
      "Requirement already satisfied: huggingface-hub<1.0,>=0.23.2 in /Users/tanmoydas/Applications/anaconda3/envs/Freelancing/lib/python3.11/site-packages (from transformers->bert-extractive-summarizer) (0.24.5)\r\n",
      "Requirement already satisfied: pyyaml>=5.1 in /Users/tanmoydas/Applications/anaconda3/envs/Freelancing/lib/python3.11/site-packages (from transformers->bert-extractive-summarizer) (6.0.1)\r\n",
      "Collecting regex!=2019.12.17 (from transformers->bert-extractive-summarizer)\r\n",
      "  Downloading regex-2024.9.11-cp311-cp311-macosx_11_0_arm64.whl.metadata (40 kB)\r\n",
      "\u001B[2K     \u001B[90m━━━━━━━━━━━━━━━━━━━━━━━━━━━━━━━━━━━━━━━━\u001B[0m \u001B[32m40.5/40.5 kB\u001B[0m \u001B[31m1.8 MB/s\u001B[0m eta \u001B[36m0:00:00\u001B[0m\r\n",
      "\u001B[?25hCollecting safetensors>=0.4.1 (from transformers->bert-extractive-summarizer)\r\n",
      "  Downloading safetensors-0.4.5-cp311-cp311-macosx_11_0_arm64.whl.metadata (3.8 kB)\r\n",
      "Collecting tokenizers<0.20,>=0.19 (from transformers->bert-extractive-summarizer)\r\n",
      "  Downloading tokenizers-0.19.1-cp311-cp311-macosx_11_0_arm64.whl.metadata (6.7 kB)\r\n",
      "Requirement already satisfied: fsspec>=2023.5.0 in /Users/tanmoydas/Applications/anaconda3/envs/Freelancing/lib/python3.11/site-packages (from huggingface-hub<1.0,>=0.23.2->transformers->bert-extractive-summarizer) (2024.6.1)\r\n",
      "Requirement already satisfied: typing-extensions>=3.7.4.3 in /Users/tanmoydas/Applications/anaconda3/envs/Freelancing/lib/python3.11/site-packages (from huggingface-hub<1.0,>=0.23.2->transformers->bert-extractive-summarizer) (4.9.0)\r\n",
      "Collecting language-data>=1.2 (from langcodes<4.0.0,>=3.2.0->spacy->bert-extractive-summarizer)\r\n",
      "  Downloading language_data-1.2.0-py3-none-any.whl.metadata (4.3 kB)\r\n",
      "Collecting annotated-types>=0.6.0 (from pydantic!=1.8,!=1.8.1,<3.0.0,>=1.7.4->spacy->bert-extractive-summarizer)\r\n",
      "  Using cached annotated_types-0.7.0-py3-none-any.whl.metadata (15 kB)\r\n",
      "Collecting pydantic-core==2.23.3 (from pydantic!=1.8,!=1.8.1,<3.0.0,>=1.7.4->spacy->bert-extractive-summarizer)\r\n",
      "  Using cached pydantic_core-2.23.3-cp311-cp311-macosx_11_0_arm64.whl.metadata (6.6 kB)\r\n",
      "Requirement already satisfied: charset-normalizer<4,>=2 in /Users/tanmoydas/Applications/anaconda3/envs/Freelancing/lib/python3.11/site-packages (from requests<3.0.0,>=2.13.0->spacy->bert-extractive-summarizer) (2.0.4)\r\n",
      "Requirement already satisfied: idna<4,>=2.5 in /Users/tanmoydas/Applications/anaconda3/envs/Freelancing/lib/python3.11/site-packages (from requests<3.0.0,>=2.13.0->spacy->bert-extractive-summarizer) (3.4)\r\n",
      "Requirement already satisfied: urllib3<3,>=1.21.1 in /Users/tanmoydas/Applications/anaconda3/envs/Freelancing/lib/python3.11/site-packages (from requests<3.0.0,>=2.13.0->spacy->bert-extractive-summarizer) (2.1.0)\r\n",
      "Requirement already satisfied: certifi>=2017.4.17 in /Users/tanmoydas/Applications/anaconda3/envs/Freelancing/lib/python3.11/site-packages (from requests<3.0.0,>=2.13.0->spacy->bert-extractive-summarizer) (2024.7.4)\r\n",
      "Collecting blis<0.8.0,>=0.7.8 (from thinc<8.3.0,>=8.2.2->spacy->bert-extractive-summarizer)\r\n",
      "  Using cached blis-0.7.11-cp311-cp311-macosx_11_0_arm64.whl.metadata (7.4 kB)\r\n",
      "Collecting confection<1.0.0,>=0.0.1 (from thinc<8.3.0,>=8.2.2->spacy->bert-extractive-summarizer)\r\n",
      "  Using cached confection-0.1.5-py3-none-any.whl.metadata (19 kB)\r\n",
      "Requirement already satisfied: click>=8.0.0 in /Users/tanmoydas/Applications/anaconda3/envs/Freelancing/lib/python3.11/site-packages (from typer<1.0.0,>=0.3.0->spacy->bert-extractive-summarizer) (8.1.7)\r\n",
      "Collecting shellingham>=1.3.0 (from typer<1.0.0,>=0.3.0->spacy->bert-extractive-summarizer)\r\n",
      "  Downloading shellingham-1.5.4-py2.py3-none-any.whl.metadata (3.5 kB)\r\n",
      "Collecting rich>=10.11.0 (from typer<1.0.0,>=0.3.0->spacy->bert-extractive-summarizer)\r\n",
      "  Downloading rich-13.8.1-py3-none-any.whl.metadata (18 kB)\r\n",
      "Collecting cloudpathlib<1.0.0,>=0.7.0 (from weasel<0.5.0,>=0.1.0->spacy->bert-extractive-summarizer)\r\n",
      "  Downloading cloudpathlib-0.19.0-py3-none-any.whl.metadata (14 kB)\r\n",
      "Collecting smart-open<8.0.0,>=5.2.1 (from weasel<0.5.0,>=0.1.0->spacy->bert-extractive-summarizer)\r\n",
      "  Downloading smart_open-7.0.4-py3-none-any.whl.metadata (23 kB)\r\n",
      "Requirement already satisfied: MarkupSafe>=2.0 in /Users/tanmoydas/Applications/anaconda3/envs/Freelancing/lib/python3.11/site-packages (from jinja2->spacy->bert-extractive-summarizer) (2.1.3)\r\n",
      "Collecting marisa-trie>=0.7.7 (from language-data>=1.2->langcodes<4.0.0,>=3.2.0->spacy->bert-extractive-summarizer)\r\n",
      "  Downloading marisa_trie-1.2.0-cp311-cp311-macosx_11_0_arm64.whl.metadata (8.7 kB)\r\n",
      "Collecting markdown-it-py>=2.2.0 (from rich>=10.11.0->typer<1.0.0,>=0.3.0->spacy->bert-extractive-summarizer)\r\n",
      "  Downloading markdown_it_py-3.0.0-py3-none-any.whl.metadata (6.9 kB)\r\n",
      "Requirement already satisfied: pygments<3.0.0,>=2.13.0 in /Users/tanmoydas/Applications/anaconda3/envs/Freelancing/lib/python3.11/site-packages (from rich>=10.11.0->typer<1.0.0,>=0.3.0->spacy->bert-extractive-summarizer) (2.15.1)\r\n",
      "Requirement already satisfied: wrapt in /Users/tanmoydas/Applications/anaconda3/envs/Freelancing/lib/python3.11/site-packages (from smart-open<8.0.0,>=5.2.1->weasel<0.5.0,>=0.1.0->spacy->bert-extractive-summarizer) (1.14.1)\r\n",
      "Collecting mdurl~=0.1 (from markdown-it-py>=2.2.0->rich>=10.11.0->typer<1.0.0,>=0.3.0->spacy->bert-extractive-summarizer)\r\n",
      "  Downloading mdurl-0.1.2-py3-none-any.whl.metadata (1.6 kB)\r\n",
      "Downloading bert_extractive_summarizer-0.10.1-py3-none-any.whl (25 kB)\r\n",
      "Downloading transformers-4.44.2-py3-none-any.whl (9.5 MB)\r\n",
      "\u001B[2K   \u001B[90m━━━━━━━━━━━━━━━━━━━━━━━━━━━━━━━━━━━━━━━━\u001B[0m \u001B[32m9.5/9.5 MB\u001B[0m \u001B[31m2.4 MB/s\u001B[0m eta \u001B[36m0:00:00\u001B[0m00:01\u001B[0m00:01\u001B[0m0m\r\n",
      "\u001B[?25hUsing cached catalogue-2.0.10-py3-none-any.whl (17 kB)\r\n",
      "Using cached cymem-2.0.8-cp311-cp311-macosx_11_0_arm64.whl (41 kB)\r\n",
      "Downloading langcodes-3.4.0-py3-none-any.whl (182 kB)\r\n",
      "\u001B[2K   \u001B[90m━━━━━━━━━━━━━━━━━━━━━━━━━━━━━━━━━━━━━━━━\u001B[0m \u001B[32m182.0/182.0 kB\u001B[0m \u001B[31m6.1 MB/s\u001B[0m eta \u001B[36m0:00:00\u001B[0m\r\n",
      "\u001B[?25hUsing cached murmurhash-1.0.10-cp311-cp311-macosx_11_0_arm64.whl (26 kB)\r\n",
      "Using cached preshed-3.0.9-cp311-cp311-macosx_11_0_arm64.whl (128 kB)\r\n",
      "Using cached pydantic-2.9.1-py3-none-any.whl (434 kB)\r\n",
      "Using cached pydantic_core-2.23.3-cp311-cp311-macosx_11_0_arm64.whl (1.8 MB)\r\n",
      "Downloading regex-2024.9.11-cp311-cp311-macosx_11_0_arm64.whl (284 kB)\r\n",
      "\u001B[2K   \u001B[90m━━━━━━━━━━━━━━━━━━━━━━━━━━━━━━━━━━━━━━━\u001B[0m \u001B[32m284.6/284.6 kB\u001B[0m \u001B[31m237.6 kB/s\u001B[0m eta \u001B[36m0:00:00\u001B[0ma \u001B[36m0:00:01\u001B[0m\r\n",
      "\u001B[?25hDownloading safetensors-0.4.5-cp311-cp311-macosx_11_0_arm64.whl (381 kB)\r\n",
      "\u001B[2K   \u001B[90m━━━━━━━━━━━━━━━━━━━━━━━━━━━━━━━━━━━━━━━\u001B[0m \u001B[32m381.5/381.5 kB\u001B[0m \u001B[31m237.8 kB/s\u001B[0m eta \u001B[36m0:00:00\u001B[0ma \u001B[36m0:00:01\u001B[0m\r\n",
      "\u001B[?25hDownloading spacy_legacy-3.0.12-py2.py3-none-any.whl (29 kB)\r\n",
      "Downloading spacy_loggers-1.0.5-py3-none-any.whl (22 kB)\r\n",
      "Using cached srsly-2.4.8-cp311-cp311-macosx_11_0_arm64.whl (488 kB)\r\n",
      "Using cached thinc-8.2.5-cp311-cp311-macosx_11_0_arm64.whl (773 kB)\r\n",
      "Downloading tokenizers-0.19.1-cp311-cp311-macosx_11_0_arm64.whl (2.4 MB)\r\n",
      "\u001B[2K   \u001B[90m━━━━━━━━━━━━━━━━━━━━━━━━━━━━━━━━━━━━━━━━\u001B[0m \u001B[32m2.4/2.4 MB\u001B[0m \u001B[31m7.9 MB/s\u001B[0m eta \u001B[36m0:00:00\u001B[0ma \u001B[36m0:00:01\u001B[0mm\r\n",
      "\u001B[?25hDownloading typer-0.12.5-py3-none-any.whl (47 kB)\r\n",
      "\u001B[2K   \u001B[90m━━━━━━━━━━━━━━━━━━━━━━━━━━━━━━━━━━━━━━━━\u001B[0m \u001B[32m47.3/47.3 kB\u001B[0m \u001B[31m257.5 kB/s\u001B[0m eta \u001B[36m0:00:00\u001B[0ma \u001B[36m0:00:01\u001B[0m\r\n",
      "\u001B[?25hUsing cached wasabi-1.1.3-py3-none-any.whl (27 kB)\r\n",
      "Downloading weasel-0.4.1-py3-none-any.whl (50 kB)\r\n",
      "\u001B[2K   \u001B[90m━━━━━━━━━━━━━━━━━━━━━━━━━━━━━━━━━━━━━━━━\u001B[0m \u001B[32m50.3/50.3 kB\u001B[0m \u001B[31m338.0 kB/s\u001B[0m eta \u001B[36m0:00:00\u001B[0ma \u001B[36m0:00:01\u001B[0m\r\n",
      "\u001B[?25hUsing cached annotated_types-0.7.0-py3-none-any.whl (13 kB)\r\n",
      "Using cached blis-0.7.11-cp311-cp311-macosx_11_0_arm64.whl (1.1 MB)\r\n",
      "Downloading cloudpathlib-0.19.0-py3-none-any.whl (49 kB)\r\n",
      "\u001B[2K   \u001B[90m━━━━━━━━━━━━━━━━━━━━━━━━━━━━━━━━━━━━━━━━\u001B[0m \u001B[32m49.4/49.4 kB\u001B[0m \u001B[31m5.9 MB/s\u001B[0m eta \u001B[36m0:00:00\u001B[0m\r\n",
      "\u001B[?25hUsing cached confection-0.1.5-py3-none-any.whl (35 kB)\r\n",
      "Downloading language_data-1.2.0-py3-none-any.whl (5.4 MB)\r\n",
      "\u001B[2K   \u001B[90m━━━━━━━━━━━━━━━━━━━━━━━━━━━━━━━━━━━━━━━━\u001B[0m \u001B[32m5.4/5.4 MB\u001B[0m \u001B[31m9.5 MB/s\u001B[0m eta \u001B[36m0:00:00\u001B[0m00:01\u001B[0m00:01\u001B[0mm\r\n",
      "\u001B[?25hDownloading rich-13.8.1-py3-none-any.whl (241 kB)\r\n",
      "\u001B[2K   \u001B[90m━━━━━━━━━━━━━━━━━━━━━━━━━━━━━━━━━━━━━━━━\u001B[0m \u001B[32m241.6/241.6 kB\u001B[0m \u001B[31m8.6 MB/s\u001B[0m eta \u001B[36m0:00:00\u001B[0m\r\n",
      "\u001B[?25hDownloading shellingham-1.5.4-py2.py3-none-any.whl (9.8 kB)\r\n",
      "Downloading smart_open-7.0.4-py3-none-any.whl (61 kB)\r\n",
      "\u001B[2K   \u001B[90m━━━━━━━━━━━━━━━━━━━━━━━━━━━━━━━━━━━━━━━━\u001B[0m \u001B[32m61.2/61.2 kB\u001B[0m \u001B[31m2.7 MB/s\u001B[0m eta \u001B[36m0:00:00\u001B[0m\r\n",
      "\u001B[?25hDownloading marisa_trie-1.2.0-cp311-cp311-macosx_11_0_arm64.whl (174 kB)\r\n",
      "\u001B[2K   \u001B[90m━━━━━━━━━━━━━━━━━━━━━━━━━━━━━━━━━━━━━━━━\u001B[0m \u001B[32m174.6/174.6 kB\u001B[0m \u001B[31m9.8 MB/s\u001B[0m eta \u001B[36m0:00:00\u001B[0m\r\n",
      "\u001B[?25hDownloading markdown_it_py-3.0.0-py3-none-any.whl (87 kB)\r\n",
      "\u001B[2K   \u001B[90m━━━━━━━━━━━━━━━━━━━━━━━━━━━━━━━━━━━━━━━━\u001B[0m \u001B[32m87.5/87.5 kB\u001B[0m \u001B[31m6.8 MB/s\u001B[0m eta \u001B[36m0:00:00\u001B[0m\r\n",
      "\u001B[?25hDownloading mdurl-0.1.2-py3-none-any.whl (10.0 kB)\r\n",
      "Building wheels for collected packages: spacy\r\n",
      "  Building wheel for spacy (pyproject.toml) ... \u001B[?25ldone\r\n",
      "\u001B[?25h  Created wheel for spacy: filename=spacy-3.7.6-cp311-cp311-macosx_11_0_arm64.whl size=5912864 sha256=ecbf002a441d11faf6e6e9d6f68d53589aa7bcefcf78d9b2936140895a66ac76\r\n",
      "  Stored in directory: /Users/tanmoydas/Library/Caches/pip/wheels/d4/20/60/0719a53a3a30f17c67a2beb43d9b4a4cc30751716d1f4a2416\r\n",
      "Successfully built spacy\r\n",
      "Installing collected packages: cymem, wasabi, spacy-loggers, spacy-legacy, smart-open, shellingham, safetensors, regex, pydantic-core, murmurhash, mdurl, marisa-trie, cloudpathlib, catalogue, blis, annotated-types, srsly, pydantic, preshed, markdown-it-py, language-data, tokenizers, rich, langcodes, confection, typer, transformers, thinc, weasel, spacy, bert-extractive-summarizer\r\n",
      "Successfully installed annotated-types-0.7.0 bert-extractive-summarizer-0.10.1 blis-0.7.11 catalogue-2.0.10 cloudpathlib-0.19.0 confection-0.1.5 cymem-2.0.8 langcodes-3.4.0 language-data-1.2.0 marisa-trie-1.2.0 markdown-it-py-3.0.0 mdurl-0.1.2 murmurhash-1.0.10 preshed-3.0.9 pydantic-2.9.1 pydantic-core-2.23.3 regex-2024.9.11 rich-13.8.1 safetensors-0.4.5 shellingham-1.5.4 smart-open-7.0.4 spacy-3.7.6 spacy-legacy-3.0.12 spacy-loggers-1.0.5 srsly-2.4.8 thinc-8.2.5 tokenizers-0.19.1 transformers-4.44.2 typer-0.12.5 wasabi-1.1.3 weasel-0.4.1\r\n"
     ]
    }
   ],
   "source": [
    "# !pip install bert-extractive-summarizer"
   ],
   "metadata": {
    "collapsed": false
   },
   "id": "9aab43eabfe0d7b5",
   "execution_count": 1
  },
  {
   "cell_type": "code",
   "outputs": [
    {
     "name": "stdout",
     "output_type": "stream",
     "text": [
      "Original Text:\n",
      "Since the areas close to the Sundarbans mangrove estuary, which is one of the most dynamic and productive ecosystems in the world, are very suitable for urban and industrial activities, the coastal areas of this ecosystem are constantly exposed to metal contamination. In this study, we analyzed the levels, spatial distributions, sources, pollution status, ecological risks, and health risks for recreational users of 16 metals in surface water collected from 18 sampling sites in the Sundarbans estuary. Considering the mean values of metals, Sr (2523 μg/L), Al (1731 μg/L), B (1692 μg/L) and Fe (1321 μg/L) were the most abundant metals in the coastal waters of the estuary, while Cd (0.977 μg/L), Ni (3.11 μg/L), Cu (5.98 μg/L) and Cr (9.77 μg/L) were the less abundant metals. All metals except Zr had the coefficient of variation (CV) values of over 35%, suggesting that other metals showed strong variation between sampling sites due to anthropogenic activities. Al, Fe and Pb levels of all sampling sites were above the limit values set for coastal and marine waters. Similarly, Pb levels of all sites exceeded the USEPA chronic criterion set for saltwater aquatic life. The results of pollution indices indicated that there was a serious metal pollution in almost all sampling sites. Low ecological risk (ER) at four sites, moderate ER at five sites and considerable ER at nine sites were recorded. Dual hierarchical clustering analysis grouped 16 metals into four clusters based on their potential sources and 18 sampling sites into three clusters based on their similar pollution characteristics. Health risk assessment results indicated that total hazard index (THI) values of all sites for recreational children were above the acceptable level of 1, indicating that water of all sites is not safe for health of children. However, THI values of all sites except ST8 (1.1) and ST11 (1.19) for recreational adults were below 1. Among the metals studied, Zr was found to be metal that contributes the most (75.89%) to total health risk in this coastal estuary. This finding reveals the necessity of monitoring of such less-studied metals such as Zr in the surface water of coastal estuaries. Carcinogenic risk values of As were within or below the acceptable range at all sites, indicating that carcinogenic risks would not be expected for recreational users.\n",
      "\n",
      "Summary:\n",
      "Al, Fe and Pb levels of all sampling sites were above the limit values set for coastal and marine waters. Among the metals studied, Zr was found to be metal that contributes the most (75.89%) to total health risk in this coastal estuary.\n"
     ]
    }
   ],
   "source": [
    "from summarizer import Summarizer\n",
    "\n",
    "# Input text to be summarized\n",
    "input_text = \"\"\"Since the areas close to the Sundarbans mangrove estuary, which is one of the most dynamic and productive ecosystems in the world, are very suitable for urban and industrial activities, the coastal areas of this ecosystem are constantly exposed to metal contamination. In this study, we analyzed the levels, spatial distributions, sources, pollution status, ecological risks, and health risks for recreational users of 16 metals in surface water collected from 18 sampling sites in the Sundarbans estuary. Considering the mean values of metals, Sr (2523 μg/L), Al (1731 μg/L), B (1692 μg/L) and Fe (1321 μg/L) were the most abundant metals in the coastal waters of the estuary, while Cd (0.977 μg/L), Ni (3.11 μg/L), Cu (5.98 μg/L) and Cr (9.77 μg/L) were the less abundant metals. All metals except Zr had the coefficient of variation (CV) values of over 35%, suggesting that other metals showed strong variation between sampling sites due to anthropogenic activities. Al, Fe and Pb levels of all sampling sites were above the limit values set for coastal and marine waters. Similarly, Pb levels of all sites exceeded the USEPA chronic criterion set for saltwater aquatic life. The results of pollution indices indicated that there was a serious metal pollution in almost all sampling sites. Low ecological risk (ER) at four sites, moderate ER at five sites and considerable ER at nine sites were recorded. Dual hierarchical clustering analysis grouped 16 metals into four clusters based on their potential sources and 18 sampling sites into three clusters based on their similar pollution characteristics. Health risk assessment results indicated that total hazard index (THI) values of all sites for recreational children were above the acceptable level of 1, indicating that water of all sites is not safe for health of children. However, THI values of all sites except ST8 (1.1) and ST11 (1.19) for recreational adults were below 1. Among the metals studied, Zr was found to be metal that contributes the most (75.89%) to total health risk in this coastal estuary. This finding reveals the necessity of monitoring of such less-studied metals such as Zr in the surface water of coastal estuaries. Carcinogenic risk values of As were within or below the acceptable range at all sites, indicating that carcinogenic risks would not be expected for recreational users.\"\"\"\n",
    "\n",
    "# Create a BERT extractive summarizer\n",
    "summarizer = Summarizer()\n",
    "\n",
    "# Generate the summary\n",
    "summary = summarizer(input_text, min_length=50, max_length=150)  \n",
    "# Output the summary\n",
    "print(\"Original Text:\")\n",
    "print(input_text)\n",
    "\n",
    "print(\"\\nSummary:\")\n",
    "print(summary)"
   ],
   "metadata": {
    "collapsed": false
   },
   "id": "7a2eef6371d0d545",
   "execution_count": 7
  },
  {
   "cell_type": "code",
   "outputs": [],
   "source": [],
   "metadata": {
    "collapsed": false
   },
   "id": "a95e2336232e1781"
  }
 ],
 "metadata": {
  "kernelspec": {
   "display_name": "Python 3",
   "language": "python",
   "name": "python3"
  },
  "language_info": {
   "codemirror_mode": {
    "name": "ipython",
    "version": 2
   },
   "file_extension": ".py",
   "mimetype": "text/x-python",
   "name": "python",
   "nbconvert_exporter": "python",
   "pygments_lexer": "ipython2",
   "version": "2.7.6"
  }
 },
 "nbformat": 4,
 "nbformat_minor": 5
}
