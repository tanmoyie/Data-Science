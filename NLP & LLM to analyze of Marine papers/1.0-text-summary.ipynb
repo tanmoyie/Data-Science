{
 "cells": [
  {
   "cell_type": "markdown",
   "source": [
    "# Large Language Modeling (LLM)"
   ],
   "metadata": {
    "collapsed": false
   },
   "id": "8b266566c857b544"
  },
  {
   "cell_type": "code",
   "outputs": [],
   "source": [
    "# !pip install openai #langchain-community"
   ],
   "metadata": {
    "collapsed": false,
    "ExecuteTime": {
     "end_time": "2024-09-24T05:43:17.712690Z",
     "start_time": "2024-09-24T05:43:17.709146Z"
    }
   },
   "id": "3d81c0307678e35c",
   "execution_count": 6
  },
  {
   "cell_type": "code",
   "outputs": [],
   "source": [
    "import os\n",
    "# Fetch the GitHub secret key from the environment variables\n",
    "LLM_Key = os.getenv(\"LLM_Key\")\n",
    "# print(\"GitHub Secret Key:\", LLM_Key)  # Ensure it's correctly loaded (Optional)"
   ],
   "metadata": {
    "collapsed": false,
    "ExecuteTime": {
     "end_time": "2024-09-24T05:43:17.712999Z",
     "start_time": "2024-09-24T05:43:17.711083Z"
    }
   },
   "id": "382acdd5aa41d871",
   "execution_count": 7
  },
  {
   "cell_type": "code",
   "outputs": [],
   "source": [
    "from langchain.document_loaders import PyPDFLoader\n",
    "from langchain.chains.summarize.chain import load_summarize_chain\n",
    "from langchain import OpenAI\n",
    "\n",
    "# import gradio as gr\n",
    "loader = PyPDFLoader(\"papers/Wang et al., 2016.pdf\") \n",
    "documents = loader.load()\n",
    "docs = loader.load_and_split()"
   ],
   "metadata": {
    "collapsed": false,
    "ExecuteTime": {
     "end_time": "2024-09-24T05:43:18.284566Z",
     "start_time": "2024-09-24T05:43:17.713606Z"
    }
   },
   "id": "f220a2c0ce961bfa",
   "execution_count": 8
  },
  {
   "cell_type": "code",
   "outputs": [
    {
     "ename": "ValidationError",
     "evalue": "1 validation error for OpenAI\n  Value error, Did not find openai_api_key, please add an environment variable `OPENAI_API_KEY` which contains it, or pass `openai_api_key` as a named parameter. [type=value_error, input_value={'temperature': 0, 'opena...ne, 'http_client': None}, input_type=dict]\n    For further information visit https://errors.pydantic.dev/2.9/v/value_error",
     "output_type": "error",
     "traceback": [
      "\u001B[0;31m---------------------------------------------------------------------------\u001B[0m",
      "\u001B[0;31mValidationError\u001B[0m                           Traceback (most recent call last)",
      "Cell \u001B[0;32mIn[9], line 1\u001B[0m\n\u001B[0;32m----> 1\u001B[0m llm \u001B[38;5;241m=\u001B[39m OpenAI(temperature\u001B[38;5;241m=\u001B[39m\u001B[38;5;241m0\u001B[39m, openai_api_key\u001B[38;5;241m=\u001B[39mLLM_Key) \u001B[38;5;66;03m# \u001B[39;00m\n\u001B[1;32m      2\u001B[0m chain \u001B[38;5;241m=\u001B[39m load_summarize_chain(llm, chain_type\u001B[38;5;241m=\u001B[39m\u001B[38;5;124m\"\u001B[39m\u001B[38;5;124mmap_reduce\u001B[39m\u001B[38;5;124m\"\u001B[39m)\n\u001B[1;32m      3\u001B[0m summary \u001B[38;5;241m=\u001B[39m chain\u001B[38;5;241m.\u001B[39mrun(docs)\n",
      "File \u001B[0;32m~/Applications/anaconda3/envs/Freelancing/lib/python3.11/site-packages/langchain_core/_api/deprecation.py:214\u001B[0m, in \u001B[0;36mdeprecated.<locals>.deprecate.<locals>.finalize.<locals>.warn_if_direct_instance\u001B[0;34m(self, *args, **kwargs)\u001B[0m\n\u001B[1;32m    212\u001B[0m     warned \u001B[38;5;241m=\u001B[39m \u001B[38;5;28;01mTrue\u001B[39;00m\n\u001B[1;32m    213\u001B[0m     emit_warning()\n\u001B[0;32m--> 214\u001B[0m \u001B[38;5;28;01mreturn\u001B[39;00m wrapped(\u001B[38;5;28mself\u001B[39m, \u001B[38;5;241m*\u001B[39margs, \u001B[38;5;241m*\u001B[39m\u001B[38;5;241m*\u001B[39mkwargs)\n",
      "File \u001B[0;32m~/Applications/anaconda3/envs/Freelancing/lib/python3.11/site-packages/langchain_core/load/serializable.py:110\u001B[0m, in \u001B[0;36mSerializable.__init__\u001B[0;34m(self, *args, **kwargs)\u001B[0m\n\u001B[1;32m    108\u001B[0m \u001B[38;5;28;01mdef\u001B[39;00m \u001B[38;5;21m__init__\u001B[39m(\u001B[38;5;28mself\u001B[39m, \u001B[38;5;241m*\u001B[39margs: Any, \u001B[38;5;241m*\u001B[39m\u001B[38;5;241m*\u001B[39mkwargs: Any) \u001B[38;5;241m-\u001B[39m\u001B[38;5;241m>\u001B[39m \u001B[38;5;28;01mNone\u001B[39;00m:\n\u001B[1;32m    109\u001B[0m \u001B[38;5;250m    \u001B[39m\u001B[38;5;124;03m\"\"\"\"\"\"\u001B[39;00m\n\u001B[0;32m--> 110\u001B[0m     \u001B[38;5;28msuper\u001B[39m()\u001B[38;5;241m.\u001B[39m\u001B[38;5;21m__init__\u001B[39m(\u001B[38;5;241m*\u001B[39margs, \u001B[38;5;241m*\u001B[39m\u001B[38;5;241m*\u001B[39mkwargs)\n",
      "File \u001B[0;32m~/Applications/anaconda3/envs/Freelancing/lib/python3.11/site-packages/pydantic/main.py:209\u001B[0m, in \u001B[0;36mBaseModel.__init__\u001B[0;34m(self, **data)\u001B[0m\n\u001B[1;32m    207\u001B[0m \u001B[38;5;66;03m# `__tracebackhide__` tells pytest and some other tools to omit this function from tracebacks\u001B[39;00m\n\u001B[1;32m    208\u001B[0m __tracebackhide__ \u001B[38;5;241m=\u001B[39m \u001B[38;5;28;01mTrue\u001B[39;00m\n\u001B[0;32m--> 209\u001B[0m validated_self \u001B[38;5;241m=\u001B[39m \u001B[38;5;28mself\u001B[39m\u001B[38;5;241m.\u001B[39m__pydantic_validator__\u001B[38;5;241m.\u001B[39mvalidate_python(data, self_instance\u001B[38;5;241m=\u001B[39m\u001B[38;5;28mself\u001B[39m)\n\u001B[1;32m    210\u001B[0m \u001B[38;5;28;01mif\u001B[39;00m \u001B[38;5;28mself\u001B[39m \u001B[38;5;129;01mis\u001B[39;00m \u001B[38;5;129;01mnot\u001B[39;00m validated_self:\n\u001B[1;32m    211\u001B[0m     warnings\u001B[38;5;241m.\u001B[39mwarn(\n\u001B[1;32m    212\u001B[0m         \u001B[38;5;124m'\u001B[39m\u001B[38;5;124mA custom validator is returning a value other than `self`.\u001B[39m\u001B[38;5;130;01m\\n\u001B[39;00m\u001B[38;5;124m'\u001B[39m\n\u001B[1;32m    213\u001B[0m         \u001B[38;5;124m\"\u001B[39m\u001B[38;5;124mReturning anything other than `self` from a top level model validator isn\u001B[39m\u001B[38;5;124m'\u001B[39m\u001B[38;5;124mt supported when validating via `__init__`.\u001B[39m\u001B[38;5;130;01m\\n\u001B[39;00m\u001B[38;5;124m\"\u001B[39m\n\u001B[1;32m    214\u001B[0m         \u001B[38;5;124m'\u001B[39m\u001B[38;5;124mSee the `model_validator` docs (https://docs.pydantic.dev/latest/concepts/validators/#model-validators) for more details.\u001B[39m\u001B[38;5;124m'\u001B[39m,\n\u001B[1;32m    215\u001B[0m         category\u001B[38;5;241m=\u001B[39m\u001B[38;5;28;01mNone\u001B[39;00m,\n\u001B[1;32m    216\u001B[0m     )\n",
      "\u001B[0;31mValidationError\u001B[0m: 1 validation error for OpenAI\n  Value error, Did not find openai_api_key, please add an environment variable `OPENAI_API_KEY` which contains it, or pass `openai_api_key` as a named parameter. [type=value_error, input_value={'temperature': 0, 'opena...ne, 'http_client': None}, input_type=dict]\n    For further information visit https://errors.pydantic.dev/2.9/v/value_error"
     ]
    }
   ],
   "source": [
    "\n",
    "llm = OpenAI(temperature=0, openai_api_key=LLM_Key) # \n",
    "chain = load_summarize_chain(llm, chain_type=\"map_reduce\")\n",
    "summary = chain.run(docs)\n",
    "summary"
   ],
   "metadata": {
    "collapsed": false,
    "ExecuteTime": {
     "end_time": "2024-09-24T05:43:18.304034Z",
     "start_time": "2024-09-24T05:43:18.286539Z"
    }
   },
   "id": "ef1431d6f9090903",
   "execution_count": 9
  },
  {
   "cell_type": "markdown",
   "source": [
    "# Natural Language Processing (NLP)"
   ],
   "metadata": {
    "collapsed": false
   },
   "id": "7b87aab6312c09a8"
  },
  {
   "cell_type": "code",
   "outputs": [],
   "source": [
    "# !pip install bert-extractive-summarizer"
   ],
   "metadata": {
    "collapsed": false,
    "ExecuteTime": {
     "end_time": "2024-09-24T05:43:24.896587Z",
     "start_time": "2024-09-24T05:43:24.890482Z"
    }
   },
   "id": "9aab43eabfe0d7b5",
   "execution_count": 10
  },
  {
   "cell_type": "code",
   "outputs": [
    {
     "name": "stderr",
     "output_type": "stream",
     "text": [
      "/Users/tanmoydas/Applications/anaconda3/envs/Freelancing/lib/python3.11/site-packages/transformers/tokenization_utils_base.py:1601: FutureWarning: `clean_up_tokenization_spaces` was not set. It will be set to `True` by default. This behavior will be depracted in transformers v4.45, and will be then set to `False` by default. For more details check this issue: https://github.com/huggingface/transformers/issues/31884\n",
      "  warnings.warn(\n"
     ]
    },
    {
     "name": "stdout",
     "output_type": "stream",
     "text": [
      "Original Text:\n",
      "Since the areas close to the Sundarbans mangrove estuary, which is one of the most dynamic and productive ecosystems in the world, are very suitable for urban and industrial activities, the coastal areas of this ecosystem are constantly exposed to metal contamination. In this study, we analyzed the levels, spatial distributions, sources, pollution status, ecological risks, and health risks for recreational users of 16 metals in surface water collected from 18 sampling sites in the Sundarbans estuary. Considering the mean values of metals, Sr (2523 μg/L), Al (1731 μg/L), B (1692 μg/L) and Fe (1321 μg/L) were the most abundant metals in the coastal waters of the estuary, while Cd (0.977 μg/L), Ni (3.11 μg/L), Cu (5.98 μg/L) and Cr (9.77 μg/L) were the less abundant metals. All metals except Zr had the coefficient of variation (CV) values of over 35%, suggesting that other metals showed strong variation between sampling sites due to anthropogenic activities. Al, Fe and Pb levels of all sampling sites were above the limit values set for coastal and marine waters. Similarly, Pb levels of all sites exceeded the USEPA chronic criterion set for saltwater aquatic life. The results of pollution indices indicated that there was a serious metal pollution in almost all sampling sites. Low ecological risk (ER) at four sites, moderate ER at five sites and considerable ER at nine sites were recorded. Dual hierarchical clustering analysis grouped 16 metals into four clusters based on their potential sources and 18 sampling sites into three clusters based on their similar pollution characteristics. Health risk assessment results indicated that total hazard index (THI) values of all sites for recreational children were above the acceptable level of 1, indicating that water of all sites is not safe for health of children. However, THI values of all sites except ST8 (1.1) and ST11 (1.19) for recreational adults were below 1. Among the metals studied, Zr was found to be metal that contributes the most (75.89%) to total health risk in this coastal estuary. This finding reveals the necessity of monitoring of such less-studied metals such as Zr in the surface water of coastal estuaries. Carcinogenic risk values of As were within or below the acceptable range at all sites, indicating that carcinogenic risks would not be expected for recreational users.\n",
      "\n",
      "Summary:\n",
      "Al, Fe and Pb levels of all sampling sites were above the limit values set for coastal and marine waters. Among the metals studied, Zr was found to be metal that contributes the most (75.89%) to total health risk in this coastal estuary.\n"
     ]
    }
   ],
   "source": [
    "from summarizer import Summarizer\n",
    "\n",
    "# Input text to be summarized\n",
    "input_text = \"\"\"Since the areas close to the Sundarbans mangrove estuary, which is one of the most dynamic and productive ecosystems in the world, are very suitable for urban and industrial activities, the coastal areas of this ecosystem are constantly exposed to metal contamination. In this study, we analyzed the levels, spatial distributions, sources, pollution status, ecological risks, and health risks for recreational users of 16 metals in surface water collected from 18 sampling sites in the Sundarbans estuary. Considering the mean values of metals, Sr (2523 μg/L), Al (1731 μg/L), B (1692 μg/L) and Fe (1321 μg/L) were the most abundant metals in the coastal waters of the estuary, while Cd (0.977 μg/L), Ni (3.11 μg/L), Cu (5.98 μg/L) and Cr (9.77 μg/L) were the less abundant metals. All metals except Zr had the coefficient of variation (CV) values of over 35%, suggesting that other metals showed strong variation between sampling sites due to anthropogenic activities. Al, Fe and Pb levels of all sampling sites were above the limit values set for coastal and marine waters. Similarly, Pb levels of all sites exceeded the USEPA chronic criterion set for saltwater aquatic life. The results of pollution indices indicated that there was a serious metal pollution in almost all sampling sites. Low ecological risk (ER) at four sites, moderate ER at five sites and considerable ER at nine sites were recorded. Dual hierarchical clustering analysis grouped 16 metals into four clusters based on their potential sources and 18 sampling sites into three clusters based on their similar pollution characteristics. Health risk assessment results indicated that total hazard index (THI) values of all sites for recreational children were above the acceptable level of 1, indicating that water of all sites is not safe for health of children. However, THI values of all sites except ST8 (1.1) and ST11 (1.19) for recreational adults were below 1. Among the metals studied, Zr was found to be metal that contributes the most (75.89%) to total health risk in this coastal estuary. This finding reveals the necessity of monitoring of such less-studied metals such as Zr in the surface water of coastal estuaries. Carcinogenic risk values of As were within or below the acceptable range at all sites, indicating that carcinogenic risks would not be expected for recreational users.\"\"\"\n",
    "\n",
    "# Create a BERT extractive summarizer\n",
    "summarizer = Summarizer()\n",
    "\n",
    "# Generate the summary\n",
    "summary = summarizer(input_text, min_length=50, max_length=150)  \n",
    "# Output the summary\n",
    "print(\"Original Text:\")\n",
    "print(input_text)\n",
    "\n",
    "print(\"\\nSummary:\")\n",
    "print(summary)"
   ],
   "metadata": {
    "collapsed": false,
    "ExecuteTime": {
     "end_time": "2024-09-24T05:43:27.484261Z",
     "start_time": "2024-09-24T05:43:26.135565Z"
    }
   },
   "id": "7a2eef6371d0d545",
   "execution_count": 11
  }
 ],
 "metadata": {
  "kernelspec": {
   "display_name": "Python 3",
   "language": "python",
   "name": "python3"
  },
  "language_info": {
   "codemirror_mode": {
    "name": "ipython",
    "version": 2
   },
   "file_extension": ".py",
   "mimetype": "text/x-python",
   "name": "python",
   "nbconvert_exporter": "python",
   "pygments_lexer": "ipython2",
   "version": "2.7.6"
  }
 },
 "nbformat": 4,
 "nbformat_minor": 5
}
