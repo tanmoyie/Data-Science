{
 "cells": [
  {
   "cell_type": "code",
   "execution_count": 1,
   "id": "initial_id",
   "metadata": {
    "collapsed": true,
    "ExecuteTime": {
     "end_time": "2024-07-18T02:13:22.553442Z",
     "start_time": "2024-07-18T02:13:21.116455Z"
    }
   },
   "outputs": [],
   "source": [
    "import torch\n",
    "import torch.nn as nn\n",
    "import torch.optim as optim\n",
    "import numpy as np\n",
    "import matplotlib.pyplot as plt\n",
    "from sklearn.preprocessing import StandardScaler\n",
    "from sklearn.metrics import mean_squared_error, r2_score\n",
    "from sklearn.manifold import TSNE\n"
   ]
  },
  {
   "cell_type": "code",
   "outputs": [],
   "source": [
    "np.random.seed(0)\n",
    "x_train = np.random.rand(100, 1)\n",
    "y_train = 3 * x_train + 2 + np.random.randn(100, 1) * 0.1\n",
    "\n",
    "# Introduce imbalance\n",
    "y_train[:10] = y_train[:10] + 10\n",
    "\n",
    "scaler_x = StandardScaler()\n",
    "scaler_y = StandardScaler()\n",
    "\n",
    "x_train = scaler_x.fit_transform(x_train)\n",
    "y_train = scaler_y.fit_transform(y_train)\n",
    "\n",
    "# Convert numpy arrays to torch tensors\n",
    "x_train = torch.tensor(x_train, dtype=torch.float32)\n",
    "y_train = torch.tensor(y_train, dtype=torch.float32)\n"
   ],
   "metadata": {
    "collapsed": false,
    "ExecuteTime": {
     "end_time": "2024-07-18T02:13:22.562732Z",
     "start_time": "2024-07-18T02:13:22.555992Z"
    }
   },
   "id": "b325c0b745e2b8a6",
   "execution_count": 2
  },
  {
   "cell_type": "code",
   "outputs": [],
   "source": [
    "class RegressionNN:\n",
    "    def __init__(self, input_dim, hidden_dim, output_dim, learning_rate=0.01):\n",
    "        self.model = self.build_model(input_dim, hidden_dim, output_dim)\n",
    "        self.criterion = nn.MSELoss()\n",
    "        self.optimizer = optim.Adam(self.model.parameters(), lr=learning_rate)\n",
    "    \n",
    "    def build_model(self, input_dim, hidden_dim, output_dim):\n",
    "        class SimpleNN(nn.Module):\n",
    "            def __init__(self):\n",
    "                super(SimpleNN, self).__init__()\n",
    "                self.fc1 = nn.Linear(input_dim, hidden_dim)\n",
    "                self.relu = nn.ReLU()\n",
    "                self.fc2 = nn.Linear(hidden_dim, output_dim)\n",
    "            \n",
    "            def forward(self, x):\n",
    "                out = self.fc1(x)\n",
    "                out = self.relu(out)\n",
    "                out = self.fc2(out)\n",
    "                return out\n",
    "        \n",
    "        return SimpleNN()\n",
    "    \n",
    "    def train(self, x_train, y_train, num_epochs=1000, print_interval=100):\n",
    "        for epoch in range(num_epochs):\n",
    "            self.model.train()\n",
    "            # Forward pass\n",
    "            outputs = self.model(x_train)\n",
    "            loss = self.criterion(outputs, y_train)\n",
    "            \n",
    "            # Backward pass and optimization\n",
    "            self.optimizer.zero_grad()\n",
    "            loss.backward()\n",
    "            self.optimizer.step()\n",
    "            \n",
    "            if (epoch + 1) % print_interval == 0:\n",
    "                print(f'Epoch [{epoch + 1}/{num_epochs}], Loss: {loss.item():.4f}')\n",
    "    \n",
    "    def evaluate(self, x):\n",
    "        self.model.eval()\n",
    "        with torch.no_grad():\n",
    "            predicted = self.model(x)\n",
    "        return predicted\n",
    "    \n",
    "    def calculate_metrics(self, y_true, y_pred):\n",
    "        rmse = np.sqrt(mean_squared_error(y_true, y_pred))\n",
    "        r2 = r2_score(y_true, y_pred)\n",
    "        return rmse, r2\n",
    "\n",
    "    def plot_results(self, x_train, y_train, y_pred):\n",
    "        plt.figure(figsize=(10, 5))\n",
    "        plt.subplot(1, 2, 1)\n",
    "        plt.scatter(x_train.numpy(), y_train.numpy(), color='blue', label='Original data')\n",
    "        plt.scatter(x_train.numpy(), y_pred.numpy(), color='red', label='Predicted data')\n",
    "        plt.legend()\n",
    "        plt.title(\"Original vs Predicted\")\n",
    "        \n",
    "        plt.subplot(1, 2, 2)\n",
    "        plt.hist(y_train.numpy() - y_pred.numpy(), bins=50, color='purple', edgecolor='black')\n",
    "        plt.title(\"Error Distribution\")\n",
    "        plt.xlabel(\"Prediction Error\")\n",
    "        plt.ylabel(\"Frequency\")\n",
    "        \n",
    "        plt.tight_layout()\n",
    "        plt.show()\n"
   ],
   "metadata": {
    "collapsed": false,
    "ExecuteTime": {
     "end_time": "2024-07-18T02:13:22.569508Z",
     "start_time": "2024-07-18T02:13:22.566695Z"
    }
   },
   "id": "2772db6d69623063",
   "execution_count": 3
  },
  {
   "cell_type": "code",
   "outputs": [
    {
     "name": "stdout",
     "output_type": "stream",
     "text": [
      "Epoch [100/1000], Loss: 0.7808\n",
      "Epoch [200/1000], Loss: 0.7704\n",
      "Epoch [300/1000], Loss: 0.7689\n",
      "Epoch [400/1000], Loss: 0.7665\n",
      "Epoch [500/1000], Loss: 0.7625\n",
      "Epoch [600/1000], Loss: 0.7568\n",
      "Epoch [700/1000], Loss: 0.7486\n",
      "Epoch [800/1000], Loss: 0.7388\n",
      "Epoch [900/1000], Loss: 0.7277\n",
      "Epoch [1000/1000], Loss: 0.7166\n",
      "RMSE: 2.7617, R^2: 0.2828\n"
     ]
    }
   ],
   "source": [
    "# Hyperparameters\n",
    "input_dim = x_train.shape[1]\n",
    "hidden_dim = 64\n",
    "output_dim = y_train.shape[1]\n",
    "learning_rate = 0.01\n",
    "num_epochs = 1000\n",
    "\n",
    "# Initialize and train the model\n",
    "regression_nn = RegressionNN(input_dim, hidden_dim, output_dim, learning_rate)\n",
    "regression_nn.train(x_train, y_train, num_epochs)\n",
    "\n",
    "# Evaluate the model\n",
    "predicted = regression_nn.evaluate(x_train)\n",
    "\n",
    "# Calculate RMSE and R^2\n",
    "y_train_inv = scaler_y.inverse_transform(y_train.numpy())\n",
    "predicted_inv = scaler_y.inverse_transform(predicted.numpy())\n",
    "\n",
    "rmse, r2 = regression_nn.calculate_metrics(y_train_inv, predicted_inv)\n",
    "print(f'RMSE: {rmse:.4f}, R^2: {r2:.4f}')\n"
   ],
   "metadata": {
    "collapsed": false,
    "ExecuteTime": {
     "end_time": "2024-07-18T02:13:23.157653Z",
     "start_time": "2024-07-18T02:13:22.570488Z"
    }
   },
   "id": "5916711a2789359b",
   "execution_count": 4
  },
  {
   "cell_type": "code",
   "outputs": [
    {
     "ename": "ValueError",
     "evalue": "n_components=2 must be between 1 and min(n_samples, n_features)=1 with svd_solver='randomized'",
     "output_type": "error",
     "traceback": [
      "\u001B[0;31m---------------------------------------------------------------------------\u001B[0m",
      "\u001B[0;31mValueError\u001B[0m                                Traceback (most recent call last)",
      "Cell \u001B[0;32mIn[7], line 23\u001B[0m\n\u001B[1;32m     20\u001B[0m     plt\u001B[38;5;241m.\u001B[39mshow()\n\u001B[1;32m     22\u001B[0m \u001B[38;5;66;03m# Plot t-SNE\u001B[39;00m\n\u001B[0;32m---> 23\u001B[0m plot_tsne(x_train\u001B[38;5;241m.\u001B[39mnumpy(), y_train_inv, predicted_inv)\n",
      "Cell \u001B[0;32mIn[7], line 3\u001B[0m, in \u001B[0;36mplot_tsne\u001B[0;34m(x, y_true, y_pred)\u001B[0m\n\u001B[1;32m      1\u001B[0m \u001B[38;5;28;01mdef\u001B[39;00m \u001B[38;5;21mplot_tsne\u001B[39m(x, y_true, y_pred):\n\u001B[1;32m      2\u001B[0m     tsne \u001B[38;5;241m=\u001B[39m TSNE(n_components\u001B[38;5;241m=\u001B[39m\u001B[38;5;241m2\u001B[39m, random_state\u001B[38;5;241m=\u001B[39m\u001B[38;5;241m0\u001B[39m)\n\u001B[0;32m----> 3\u001B[0m     x_tsne \u001B[38;5;241m=\u001B[39m tsne\u001B[38;5;241m.\u001B[39mfit_transform(x)\n\u001B[1;32m      5\u001B[0m     plt\u001B[38;5;241m.\u001B[39mfigure(figsize\u001B[38;5;241m=\u001B[39m(\u001B[38;5;241m12\u001B[39m, \u001B[38;5;241m6\u001B[39m))\n\u001B[1;32m      7\u001B[0m     \u001B[38;5;66;03m# Plot true values\u001B[39;00m\n",
      "File \u001B[0;32m~/Applications/anaconda3/envs/Freelancing/lib/python3.11/site-packages/sklearn/utils/_set_output.py:295\u001B[0m, in \u001B[0;36m_wrap_method_output.<locals>.wrapped\u001B[0;34m(self, X, *args, **kwargs)\u001B[0m\n\u001B[1;32m    293\u001B[0m \u001B[38;5;129m@wraps\u001B[39m(f)\n\u001B[1;32m    294\u001B[0m \u001B[38;5;28;01mdef\u001B[39;00m \u001B[38;5;21mwrapped\u001B[39m(\u001B[38;5;28mself\u001B[39m, X, \u001B[38;5;241m*\u001B[39margs, \u001B[38;5;241m*\u001B[39m\u001B[38;5;241m*\u001B[39mkwargs):\n\u001B[0;32m--> 295\u001B[0m     data_to_wrap \u001B[38;5;241m=\u001B[39m f(\u001B[38;5;28mself\u001B[39m, X, \u001B[38;5;241m*\u001B[39margs, \u001B[38;5;241m*\u001B[39m\u001B[38;5;241m*\u001B[39mkwargs)\n\u001B[1;32m    296\u001B[0m     \u001B[38;5;28;01mif\u001B[39;00m \u001B[38;5;28misinstance\u001B[39m(data_to_wrap, \u001B[38;5;28mtuple\u001B[39m):\n\u001B[1;32m    297\u001B[0m         \u001B[38;5;66;03m# only wrap the first output for cross decomposition\u001B[39;00m\n\u001B[1;32m    298\u001B[0m         return_tuple \u001B[38;5;241m=\u001B[39m (\n\u001B[1;32m    299\u001B[0m             _wrap_data_with_container(method, data_to_wrap[\u001B[38;5;241m0\u001B[39m], X, \u001B[38;5;28mself\u001B[39m),\n\u001B[1;32m    300\u001B[0m             \u001B[38;5;241m*\u001B[39mdata_to_wrap[\u001B[38;5;241m1\u001B[39m:],\n\u001B[1;32m    301\u001B[0m         )\n",
      "File \u001B[0;32m~/Applications/anaconda3/envs/Freelancing/lib/python3.11/site-packages/sklearn/base.py:1474\u001B[0m, in \u001B[0;36m_fit_context.<locals>.decorator.<locals>.wrapper\u001B[0;34m(estimator, *args, **kwargs)\u001B[0m\n\u001B[1;32m   1467\u001B[0m     estimator\u001B[38;5;241m.\u001B[39m_validate_params()\n\u001B[1;32m   1469\u001B[0m \u001B[38;5;28;01mwith\u001B[39;00m config_context(\n\u001B[1;32m   1470\u001B[0m     skip_parameter_validation\u001B[38;5;241m=\u001B[39m(\n\u001B[1;32m   1471\u001B[0m         prefer_skip_nested_validation \u001B[38;5;129;01mor\u001B[39;00m global_skip_validation\n\u001B[1;32m   1472\u001B[0m     )\n\u001B[1;32m   1473\u001B[0m ):\n\u001B[0;32m-> 1474\u001B[0m     \u001B[38;5;28;01mreturn\u001B[39;00m fit_method(estimator, \u001B[38;5;241m*\u001B[39margs, \u001B[38;5;241m*\u001B[39m\u001B[38;5;241m*\u001B[39mkwargs)\n",
      "File \u001B[0;32m~/Applications/anaconda3/envs/Freelancing/lib/python3.11/site-packages/sklearn/manifold/_t_sne.py:1136\u001B[0m, in \u001B[0;36mTSNE.fit_transform\u001B[0;34m(self, X, y)\u001B[0m\n\u001B[1;32m   1115\u001B[0m \u001B[38;5;250m\u001B[39m\u001B[38;5;124;03m\"\"\"Fit X into an embedded space and return that transformed output.\u001B[39;00m\n\u001B[1;32m   1116\u001B[0m \n\u001B[1;32m   1117\u001B[0m \u001B[38;5;124;03mParameters\u001B[39;00m\n\u001B[0;32m   (...)\u001B[0m\n\u001B[1;32m   1133\u001B[0m \u001B[38;5;124;03m    Embedding of the training data in low-dimensional space.\u001B[39;00m\n\u001B[1;32m   1134\u001B[0m \u001B[38;5;124;03m\"\"\"\u001B[39;00m\n\u001B[1;32m   1135\u001B[0m \u001B[38;5;28mself\u001B[39m\u001B[38;5;241m.\u001B[39m_check_params_vs_input(X)\n\u001B[0;32m-> 1136\u001B[0m embedding \u001B[38;5;241m=\u001B[39m \u001B[38;5;28mself\u001B[39m\u001B[38;5;241m.\u001B[39m_fit(X)\n\u001B[1;32m   1137\u001B[0m \u001B[38;5;28mself\u001B[39m\u001B[38;5;241m.\u001B[39membedding_ \u001B[38;5;241m=\u001B[39m embedding\n\u001B[1;32m   1138\u001B[0m \u001B[38;5;28;01mreturn\u001B[39;00m \u001B[38;5;28mself\u001B[39m\u001B[38;5;241m.\u001B[39membedding_\n",
      "File \u001B[0;32m~/Applications/anaconda3/envs/Freelancing/lib/python3.11/site-packages/sklearn/manifold/_t_sne.py:1009\u001B[0m, in \u001B[0;36mTSNE._fit\u001B[0;34m(self, X, skip_num_points)\u001B[0m\n\u001B[1;32m   1007\u001B[0m \u001B[38;5;66;03m# Always output a numpy array, no matter what is configured globally\u001B[39;00m\n\u001B[1;32m   1008\u001B[0m pca\u001B[38;5;241m.\u001B[39mset_output(transform\u001B[38;5;241m=\u001B[39m\u001B[38;5;124m\"\u001B[39m\u001B[38;5;124mdefault\u001B[39m\u001B[38;5;124m\"\u001B[39m)\n\u001B[0;32m-> 1009\u001B[0m X_embedded \u001B[38;5;241m=\u001B[39m pca\u001B[38;5;241m.\u001B[39mfit_transform(X)\u001B[38;5;241m.\u001B[39mastype(np\u001B[38;5;241m.\u001B[39mfloat32, copy\u001B[38;5;241m=\u001B[39m\u001B[38;5;28;01mFalse\u001B[39;00m)\n\u001B[1;32m   1010\u001B[0m \u001B[38;5;66;03m# PCA is rescaled so that PC1 has standard deviation 1e-4 which is\u001B[39;00m\n\u001B[1;32m   1011\u001B[0m \u001B[38;5;66;03m# the default value for random initialization. See issue #18018.\u001B[39;00m\n\u001B[1;32m   1012\u001B[0m X_embedded \u001B[38;5;241m=\u001B[39m X_embedded \u001B[38;5;241m/\u001B[39m np\u001B[38;5;241m.\u001B[39mstd(X_embedded[:, \u001B[38;5;241m0\u001B[39m]) \u001B[38;5;241m*\u001B[39m \u001B[38;5;241m1e-4\u001B[39m\n",
      "File \u001B[0;32m~/Applications/anaconda3/envs/Freelancing/lib/python3.11/site-packages/sklearn/utils/_set_output.py:295\u001B[0m, in \u001B[0;36m_wrap_method_output.<locals>.wrapped\u001B[0;34m(self, X, *args, **kwargs)\u001B[0m\n\u001B[1;32m    293\u001B[0m \u001B[38;5;129m@wraps\u001B[39m(f)\n\u001B[1;32m    294\u001B[0m \u001B[38;5;28;01mdef\u001B[39;00m \u001B[38;5;21mwrapped\u001B[39m(\u001B[38;5;28mself\u001B[39m, X, \u001B[38;5;241m*\u001B[39margs, \u001B[38;5;241m*\u001B[39m\u001B[38;5;241m*\u001B[39mkwargs):\n\u001B[0;32m--> 295\u001B[0m     data_to_wrap \u001B[38;5;241m=\u001B[39m f(\u001B[38;5;28mself\u001B[39m, X, \u001B[38;5;241m*\u001B[39margs, \u001B[38;5;241m*\u001B[39m\u001B[38;5;241m*\u001B[39mkwargs)\n\u001B[1;32m    296\u001B[0m     \u001B[38;5;28;01mif\u001B[39;00m \u001B[38;5;28misinstance\u001B[39m(data_to_wrap, \u001B[38;5;28mtuple\u001B[39m):\n\u001B[1;32m    297\u001B[0m         \u001B[38;5;66;03m# only wrap the first output for cross decomposition\u001B[39;00m\n\u001B[1;32m    298\u001B[0m         return_tuple \u001B[38;5;241m=\u001B[39m (\n\u001B[1;32m    299\u001B[0m             _wrap_data_with_container(method, data_to_wrap[\u001B[38;5;241m0\u001B[39m], X, \u001B[38;5;28mself\u001B[39m),\n\u001B[1;32m    300\u001B[0m             \u001B[38;5;241m*\u001B[39mdata_to_wrap[\u001B[38;5;241m1\u001B[39m:],\n\u001B[1;32m    301\u001B[0m         )\n",
      "File \u001B[0;32m~/Applications/anaconda3/envs/Freelancing/lib/python3.11/site-packages/sklearn/base.py:1474\u001B[0m, in \u001B[0;36m_fit_context.<locals>.decorator.<locals>.wrapper\u001B[0;34m(estimator, *args, **kwargs)\u001B[0m\n\u001B[1;32m   1467\u001B[0m     estimator\u001B[38;5;241m.\u001B[39m_validate_params()\n\u001B[1;32m   1469\u001B[0m \u001B[38;5;28;01mwith\u001B[39;00m config_context(\n\u001B[1;32m   1470\u001B[0m     skip_parameter_validation\u001B[38;5;241m=\u001B[39m(\n\u001B[1;32m   1471\u001B[0m         prefer_skip_nested_validation \u001B[38;5;129;01mor\u001B[39;00m global_skip_validation\n\u001B[1;32m   1472\u001B[0m     )\n\u001B[1;32m   1473\u001B[0m ):\n\u001B[0;32m-> 1474\u001B[0m     \u001B[38;5;28;01mreturn\u001B[39;00m fit_method(estimator, \u001B[38;5;241m*\u001B[39margs, \u001B[38;5;241m*\u001B[39m\u001B[38;5;241m*\u001B[39mkwargs)\n",
      "File \u001B[0;32m~/Applications/anaconda3/envs/Freelancing/lib/python3.11/site-packages/sklearn/decomposition/_pca.py:454\u001B[0m, in \u001B[0;36mPCA.fit_transform\u001B[0;34m(self, X, y)\u001B[0m\n\u001B[1;32m    431\u001B[0m \u001B[38;5;129m@_fit_context\u001B[39m(prefer_skip_nested_validation\u001B[38;5;241m=\u001B[39m\u001B[38;5;28;01mTrue\u001B[39;00m)\n\u001B[1;32m    432\u001B[0m \u001B[38;5;28;01mdef\u001B[39;00m \u001B[38;5;21mfit_transform\u001B[39m(\u001B[38;5;28mself\u001B[39m, X, y\u001B[38;5;241m=\u001B[39m\u001B[38;5;28;01mNone\u001B[39;00m):\n\u001B[1;32m    433\u001B[0m \u001B[38;5;250m    \u001B[39m\u001B[38;5;124;03m\"\"\"Fit the model with X and apply the dimensionality reduction on X.\u001B[39;00m\n\u001B[1;32m    434\u001B[0m \n\u001B[1;32m    435\u001B[0m \u001B[38;5;124;03m    Parameters\u001B[39;00m\n\u001B[0;32m   (...)\u001B[0m\n\u001B[1;32m    452\u001B[0m \u001B[38;5;124;03m    C-ordered array, use 'np.ascontiguousarray'.\u001B[39;00m\n\u001B[1;32m    453\u001B[0m \u001B[38;5;124;03m    \"\"\"\u001B[39;00m\n\u001B[0;32m--> 454\u001B[0m     U, S, Vt \u001B[38;5;241m=\u001B[39m \u001B[38;5;28mself\u001B[39m\u001B[38;5;241m.\u001B[39m_fit(X)\n\u001B[1;32m    455\u001B[0m     U \u001B[38;5;241m=\u001B[39m U[:, : \u001B[38;5;28mself\u001B[39m\u001B[38;5;241m.\u001B[39mn_components_]\n\u001B[1;32m    457\u001B[0m     \u001B[38;5;28;01mif\u001B[39;00m \u001B[38;5;28mself\u001B[39m\u001B[38;5;241m.\u001B[39mwhiten:\n\u001B[1;32m    458\u001B[0m         \u001B[38;5;66;03m# X_new = X * V / S * sqrt(n_samples) = U * sqrt(n_samples)\u001B[39;00m\n",
      "File \u001B[0;32m~/Applications/anaconda3/envs/Freelancing/lib/python3.11/site-packages/sklearn/decomposition/_pca.py:516\u001B[0m, in \u001B[0;36mPCA._fit\u001B[0;34m(self, X)\u001B[0m\n\u001B[1;32m    514\u001B[0m     \u001B[38;5;28;01mreturn\u001B[39;00m \u001B[38;5;28mself\u001B[39m\u001B[38;5;241m.\u001B[39m_fit_full(X, n_components)\n\u001B[1;32m    515\u001B[0m \u001B[38;5;28;01melif\u001B[39;00m \u001B[38;5;28mself\u001B[39m\u001B[38;5;241m.\u001B[39m_fit_svd_solver \u001B[38;5;129;01min\u001B[39;00m [\u001B[38;5;124m\"\u001B[39m\u001B[38;5;124marpack\u001B[39m\u001B[38;5;124m\"\u001B[39m, \u001B[38;5;124m\"\u001B[39m\u001B[38;5;124mrandomized\u001B[39m\u001B[38;5;124m\"\u001B[39m]:\n\u001B[0;32m--> 516\u001B[0m     \u001B[38;5;28;01mreturn\u001B[39;00m \u001B[38;5;28mself\u001B[39m\u001B[38;5;241m.\u001B[39m_fit_truncated(X, n_components, \u001B[38;5;28mself\u001B[39m\u001B[38;5;241m.\u001B[39m_fit_svd_solver)\n",
      "File \u001B[0;32m~/Applications/anaconda3/envs/Freelancing/lib/python3.11/site-packages/sklearn/decomposition/_pca.py:619\u001B[0m, in \u001B[0;36mPCA._fit_truncated\u001B[0;34m(self, X, n_components, svd_solver)\u001B[0m\n\u001B[1;32m    614\u001B[0m     \u001B[38;5;28;01mraise\u001B[39;00m \u001B[38;5;167;01mValueError\u001B[39;00m(\n\u001B[1;32m    615\u001B[0m         \u001B[38;5;124m\"\u001B[39m\u001B[38;5;124mn_components=\u001B[39m\u001B[38;5;132;01m%r\u001B[39;00m\u001B[38;5;124m cannot be a string with svd_solver=\u001B[39m\u001B[38;5;124m'\u001B[39m\u001B[38;5;132;01m%s\u001B[39;00m\u001B[38;5;124m'\u001B[39m\u001B[38;5;124m\"\u001B[39m\n\u001B[1;32m    616\u001B[0m         \u001B[38;5;241m%\u001B[39m (n_components, svd_solver)\n\u001B[1;32m    617\u001B[0m     )\n\u001B[1;32m    618\u001B[0m \u001B[38;5;28;01melif\u001B[39;00m \u001B[38;5;129;01mnot\u001B[39;00m \u001B[38;5;241m1\u001B[39m \u001B[38;5;241m<\u001B[39m\u001B[38;5;241m=\u001B[39m n_components \u001B[38;5;241m<\u001B[39m\u001B[38;5;241m=\u001B[39m \u001B[38;5;28mmin\u001B[39m(n_samples, n_features):\n\u001B[0;32m--> 619\u001B[0m     \u001B[38;5;28;01mraise\u001B[39;00m \u001B[38;5;167;01mValueError\u001B[39;00m(\n\u001B[1;32m    620\u001B[0m         \u001B[38;5;124m\"\u001B[39m\u001B[38;5;124mn_components=\u001B[39m\u001B[38;5;132;01m%r\u001B[39;00m\u001B[38;5;124m must be between 1 and \u001B[39m\u001B[38;5;124m\"\u001B[39m\n\u001B[1;32m    621\u001B[0m         \u001B[38;5;124m\"\u001B[39m\u001B[38;5;124mmin(n_samples, n_features)=\u001B[39m\u001B[38;5;132;01m%r\u001B[39;00m\u001B[38;5;124m with \u001B[39m\u001B[38;5;124m\"\u001B[39m\n\u001B[1;32m    622\u001B[0m         \u001B[38;5;124m\"\u001B[39m\u001B[38;5;124msvd_solver=\u001B[39m\u001B[38;5;124m'\u001B[39m\u001B[38;5;132;01m%s\u001B[39;00m\u001B[38;5;124m'\u001B[39m\u001B[38;5;124m\"\u001B[39m\n\u001B[1;32m    623\u001B[0m         \u001B[38;5;241m%\u001B[39m (n_components, \u001B[38;5;28mmin\u001B[39m(n_samples, n_features), svd_solver)\n\u001B[1;32m    624\u001B[0m     )\n\u001B[1;32m    625\u001B[0m \u001B[38;5;28;01melif\u001B[39;00m svd_solver \u001B[38;5;241m==\u001B[39m \u001B[38;5;124m\"\u001B[39m\u001B[38;5;124marpack\u001B[39m\u001B[38;5;124m\"\u001B[39m \u001B[38;5;129;01mand\u001B[39;00m n_components \u001B[38;5;241m==\u001B[39m \u001B[38;5;28mmin\u001B[39m(n_samples, n_features):\n\u001B[1;32m    626\u001B[0m     \u001B[38;5;28;01mraise\u001B[39;00m \u001B[38;5;167;01mValueError\u001B[39;00m(\n\u001B[1;32m    627\u001B[0m         \u001B[38;5;124m\"\u001B[39m\u001B[38;5;124mn_components=\u001B[39m\u001B[38;5;132;01m%r\u001B[39;00m\u001B[38;5;124m must be strictly less than \u001B[39m\u001B[38;5;124m\"\u001B[39m\n\u001B[1;32m    628\u001B[0m         \u001B[38;5;124m\"\u001B[39m\u001B[38;5;124mmin(n_samples, n_features)=\u001B[39m\u001B[38;5;132;01m%r\u001B[39;00m\u001B[38;5;124m with \u001B[39m\u001B[38;5;124m\"\u001B[39m\n\u001B[1;32m    629\u001B[0m         \u001B[38;5;124m\"\u001B[39m\u001B[38;5;124msvd_solver=\u001B[39m\u001B[38;5;124m'\u001B[39m\u001B[38;5;132;01m%s\u001B[39;00m\u001B[38;5;124m'\u001B[39m\u001B[38;5;124m\"\u001B[39m\n\u001B[1;32m    630\u001B[0m         \u001B[38;5;241m%\u001B[39m (n_components, \u001B[38;5;28mmin\u001B[39m(n_samples, n_features), svd_solver)\n\u001B[1;32m    631\u001B[0m     )\n",
      "\u001B[0;31mValueError\u001B[0m: n_components=2 must be between 1 and min(n_samples, n_features)=1 with svd_solver='randomized'"
     ]
    }
   ],
   "source": [
    "def plot_tsne(x, y_true, y_pred):\n",
    "    tsne = TSNE(n_components=2, random_state=0)\n",
    "    x_tsne = tsne.fit_transform(x)\n",
    "\n",
    "    plt.figure(figsize=(12, 6))\n",
    "\n",
    "    # Plot true values\n",
    "    plt.subplot(1, 2, 1)\n",
    "    plt.scatter(x_tsne[:, 0], x_tsne[:, 1], c=y_true, cmap='viridis')\n",
    "    plt.colorbar()\n",
    "    plt.title(\"t-SNE of Original Data\")\n",
    "\n",
    "    # Plot predicted values\n",
    "    plt.subplot(1, 2, 2)\n",
    "    plt.scatter(x_tsne[:, 0], x_tsne[:, 1], c=y_pred, cmap='viridis')\n",
    "    plt.colorbar()\n",
    "    plt.title(\"t-SNE of Predicted Data\")\n",
    "\n",
    "    plt.tight_layout()\n",
    "    plt.show()\n",
    "\n",
    "# Plot t-SNE\n",
    "plot_tsne(x_train.numpy(), y_train_inv, predicted_inv)\n"
   ],
   "metadata": {
    "collapsed": false,
    "ExecuteTime": {
     "end_time": "2024-07-18T02:17:06.160935Z",
     "start_time": "2024-07-18T02:17:06.107047Z"
    }
   },
   "id": "9cfed1645b85c8b6",
   "execution_count": 7
  },
  {
   "cell_type": "code",
   "outputs": [],
   "source": [],
   "metadata": {
    "collapsed": false
   },
   "id": "e6ae03e10a5c5aa2"
  }
 ],
 "metadata": {
  "kernelspec": {
   "display_name": "Python 3",
   "language": "python",
   "name": "python3"
  },
  "language_info": {
   "codemirror_mode": {
    "name": "ipython",
    "version": 2
   },
   "file_extension": ".py",
   "mimetype": "text/x-python",
   "name": "python",
   "nbconvert_exporter": "python",
   "pygments_lexer": "ipython2",
   "version": "2.7.6"
  }
 },
 "nbformat": 4,
 "nbformat_minor": 5
}
